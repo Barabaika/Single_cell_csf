{
 "cells": [
  {
   "cell_type": "markdown",
   "id": "fdfb8470",
   "metadata": {},
   "source": [
    "import pandas as pd"
   ]
  },
  {
   "cell_type": "markdown",
   "id": "ddefcde8",
   "metadata": {},
   "source": [
    "# For PBMC"
   ]
  },
  {
   "cell_type": "code",
   "execution_count": 2,
   "id": "266a61d1",
   "metadata": {},
   "outputs": [],
   "source": [
    "df = pd.read_csv('Downloads/needed_markers_in_clusters.csv')\n",
    "df = df.set_index('Unnamed: 0')"
   ]
  },
  {
   "cell_type": "code",
   "execution_count": 29,
   "id": "8d88d160",
   "metadata": {},
   "outputs": [],
   "source": [
    "cell_names = {\n",
    "    'CD3E': 'ab T cell', 'TRAC': 'ab T cell', 'LCK': 'ab T cell', \n",
    "    'IL7R': 'CD4+ T cell', 'CD4': 'CD4+ T cell',\n",
    "    'CD8B': 'a CD8+ T cell', 'CD8A': 'a CD8+ T cell', 'CCL5': 'a CD8+ T cell', \n",
    "    'CD8na': 'na CD8+ T cell','CCR7': 'na CD8+ T cell', \n",
    "    'FOXP3': 'Treg cell', 'CTLA4': 'Treg cell', \n",
    "    'TRDC': 'gd T cell', \n",
    "    'GNLY': 'NK cell', 'NKG7': 'NK cell', \n",
    "    'FCGR3A': 'NK1 cell', 'CD16': 'NK1 cell', 'PRF1': 'NK1 cell',\n",
    "    'SELL': 'NK2 cell', 'CD62L': 'NK2 cell', 'XCL1': 'NK2 cell', \n",
    "    'CD79A': 'B cell', \n",
    "    'IGHD': 'naive B cell', 'CD37': 'naive B cell',\n",
    "    'CD27': 'a B cell', 'IGHM': 'a B cell',\n",
    "    'IGHG': 'Plasmablast', 'CD38': 'Plasmablast', 'TNFRSF17': 'Plasmablast', 'CD269': 'Plasmablast',\n",
    "    'LYZ': 'mDC', \n",
    "    'WDFY4': 'mDC1', 'XCR1': 'mDC1', 'BATF3': 'mDC1', \n",
    "    'FCER1A': 'mDC2', 'CD1C': 'mDC2', 'CLEC10A': 'mDC2',\n",
    "    'S100A8': 'granulocyte', 'S100A9': 'granulocyte',\n",
    "    'FCGR3A': 'monocyte1', 'CD16': 'monocyte1', 'CD14': 'monocyte1',\n",
    "    'TCF4': 'pDC', 'E2-2': 'pDC', 'TNFRSF21': 'pDC', 'DR6': 'pDC',\n",
    "    'GNG11': 'megakaryocytes',\n",
    "    'CLU': 'megakaryocytes',\n",
    "    'GATA3': 'Th2 cell',\n",
    "    'CCR3': 'Th2 cell',\n",
    "    'CCR4': 'Th2 cell',\n",
    "    'CXCR3': 'a T cells, NK, Th1',\n",
    "    'CD68': 'macro/mono',\n",
    "    'Cd7': 'T cell',\n",
    "    'GZMB': 'cytotoxis T/ NK cell',\n",
    "}"
   ]
  },
  {
   "cell_type": "code",
   "execution_count": 30,
   "id": "ec8a6f81",
   "metadata": {},
   "outputs": [],
   "source": [
    "for k in cell_names.keys():\n",
    "    cell_names[k] = [cell_names[k]]"
   ]
  },
  {
   "cell_type": "code",
   "execution_count": 34,
   "id": "892396ca",
   "metadata": {},
   "outputs": [],
   "source": [
    "cell_types = pd.DataFrame(cell_names).T.rename({0: 'celltype'}, axis = 1)"
   ]
  },
  {
   "cell_type": "code",
   "execution_count": 37,
   "id": "2be9a90e",
   "metadata": {},
   "outputs": [],
   "source": [
    "df = pd.concat([df, cell_types], axis = 1)"
   ]
  },
  {
   "cell_type": "code",
   "execution_count": 64,
   "id": "745aee48",
   "metadata": {},
   "outputs": [
    {
     "data": {
      "text/html": [
       "<div>\n",
       "<style scoped>\n",
       "    .dataframe tbody tr th:only-of-type {\n",
       "        vertical-align: middle;\n",
       "    }\n",
       "\n",
       "    .dataframe tbody tr th {\n",
       "        vertical-align: top;\n",
       "    }\n",
       "\n",
       "    .dataframe thead th {\n",
       "        text-align: right;\n",
       "    }\n",
       "</style>\n",
       "<table border=\"1\" class=\"dataframe\">\n",
       "  <thead>\n",
       "    <tr style=\"text-align: right;\">\n",
       "      <th></th>\n",
       "      <th>16</th>\n",
       "      <th>celltype</th>\n",
       "    </tr>\n",
       "  </thead>\n",
       "  <tbody>\n",
       "    <tr>\n",
       "      <th>GNG11</th>\n",
       "      <td>1.121376</td>\n",
       "      <td>megakaryocytes</td>\n",
       "    </tr>\n",
       "    <tr>\n",
       "      <th>IL7R</th>\n",
       "      <td>0.512163</td>\n",
       "      <td>CD4+ T cell</td>\n",
       "    </tr>\n",
       "    <tr>\n",
       "      <th>CCR7</th>\n",
       "      <td>0.436360</td>\n",
       "      <td>na CD8+ T cell</td>\n",
       "    </tr>\n",
       "    <tr>\n",
       "      <th>TRAC</th>\n",
       "      <td>0.361703</td>\n",
       "      <td>ab T cell</td>\n",
       "    </tr>\n",
       "    <tr>\n",
       "      <th>CD3E</th>\n",
       "      <td>0.354634</td>\n",
       "      <td>ab T cell</td>\n",
       "    </tr>\n",
       "  </tbody>\n",
       "</table>\n",
       "</div>"
      ],
      "text/plain": [
       "             16        celltype\n",
       "GNG11  1.121376  megakaryocytes\n",
       "IL7R   0.512163     CD4+ T cell\n",
       "CCR7   0.436360  na CD8+ T cell\n",
       "TRAC   0.361703       ab T cell\n",
       "CD3E   0.354634       ab T cell"
      ]
     },
     "execution_count": 64,
     "metadata": {},
     "output_type": "execute_result"
    }
   ],
   "source": [
    "cluster = '16'\n",
    "df[df[cluster]>0].sort_values(cluster, ascending = False)[[cluster, 'celltype']]"
   ]
  },
  {
   "cell_type": "markdown",
   "id": "9f292b59",
   "metadata": {},
   "source": [
    "'na CD8+ T cell'\n",
    "'granulocyte' \n",
    "'ab T cell'\n",
    "'NK cell'\n",
    "CCL5, CD8A, CD8B, TRAC, CD3E, LCK + T cell, NKG7, GNLY, GZMB PRF1 + NK cell 4\n",
    "'na CD8+ T cell'\n",
    "'ab T cell'\n",
    "'naive B cell'\n",
    "'naive B cell'\n",
    "'a CD8+ T cell'\n",
    "'ab T cell'\n",
    "'LYZ+ mDC| CLEC10A mDC1| CD14 mono1| s100A8, S100A9 gran| CD69 mono| CD4+ T cell' 11\n",
    "'gd T cell'\n",
    "'ab T cell'\n",
    "'FCGR3A mono1| CD68 mono | BATF3 mRC1|CD37 naive B cell| CD4+ T cell' 14\n",
    "'a CD8+ T cell'\n",
    "'megakaryocytes'\n",
    "'granulocyte'\n",
    "'NK cell'\n",
    "'megakaryocytes'\n",
    "'GrB+ pDC'\n",
    "'mDC2'\n"
   ]
  }
 ],
 "metadata": {
  "kernelspec": {
   "display_name": "Python 3",
   "language": "python",
   "name": "python3"
  },
  "language_info": {
   "codemirror_mode": {
    "name": "ipython",
    "version": 3
   },
   "file_extension": ".py",
   "mimetype": "text/x-python",
   "name": "python",
   "nbconvert_exporter": "python",
   "pygments_lexer": "ipython3",
   "version": "3.8.3"
  }
 },
 "nbformat": 4,
 "nbformat_minor": 5
}
