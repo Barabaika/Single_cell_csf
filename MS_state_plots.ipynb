{
 "cells": [
  {
   "cell_type": "code",
   "execution_count": 13,
   "id": "7677a876",
   "metadata": {},
   "outputs": [],
   "source": [
    "import pandas as pd\n",
    "import numpy as np\n",
    "import matplotlib.pyplot as plt"
   ]
  },
  {
   "cell_type": "markdown",
   "id": "95ab7db7",
   "metadata": {},
   "source": [
    "# cell types search"
   ]
  },
  {
   "cell_type": "code",
   "execution_count": 262,
   "id": "fafd3bcf",
   "metadata": {},
   "outputs": [],
   "source": [
    "df = pd.read_csv('Downloads/CSF_needed_markers_in_clusters.csv')\n",
    "df = df.set_index('Unnamed: 0')"
   ]
  },
  {
   "cell_type": "code",
   "execution_count": 301,
   "id": "9b3648f7",
   "metadata": {},
   "outputs": [],
   "source": [
    "path_to_state_files = 'D:/Phystech/MS_state/additional_files/'"
   ]
  },
  {
   "cell_type": "code",
   "execution_count": 286,
   "id": "be545ccd",
   "metadata": {},
   "outputs": [],
   "source": [
    "cell_names = {\n",
    "    'CD3E': 'ab T cell', 'TRAC': 'ab T cell', 'LCK': 'ab T cell', \n",
    "    'IL7R': 'CD4+ T cell', 'CD4': 'CD4+ T cell',\n",
    "    'CD8B': 'a CD8+ T cell', 'CD8A': 'a CD8+ T cell', 'CCL5': 'a CD8+ T cell', \n",
    "    'CD8na': 'na CD8+ T cell','CCR7': 'na CD8+ T cell', \n",
    "    'FOXP3': 'Treg cell', 'CTLA4': 'Treg cell', \n",
    "    'TRDC': 'gd T cell', \n",
    "    'GNLY': 'NK cell', 'NKG7': 'NK cell', \n",
    "    'FCGR3A': 'NK1 cell', 'CD16': 'NK1 cell', 'PRF1': 'NK1 cell',\n",
    "    'SELL': 'NK2 cell', 'CD62L': 'NK2 cell', 'XCL1': 'NK2 cell', \n",
    "    'CD79A': 'B cell', \n",
    "    'IGHD': 'naive B cell', 'CD37': 'naive B cell',\n",
    "    'CD27': 'a B cell', 'IGHM': 'a B cell',\n",
    "    'IGHG': 'Plasmablast', 'CD38': 'Plasmablast', 'TNFRSF17': 'Plasmablast', 'CD269': 'Plasmablast',\n",
    "    'LYZ': 'mDC', \n",
    "    'WDFY4': 'mDC1', 'XCR1': 'mDC1', 'BATF3': 'mDC1', \n",
    "    'FCER1A': 'mDC2', 'CD1C': 'mDC2', 'CLEC10A': 'mDC2',\n",
    "    'S100A8': 'granulocyte', 'S100A9': 'granulocyte',\n",
    "    'FCGR3A': 'monocyte1', 'CD16': 'monocyte1', 'CD14': 'monocyte1',\n",
    "    'TCF4': 'pDC', 'E2-2': 'pDC', 'TNFRSF21': 'pDC', 'DR6': 'pDC',\n",
    "    'GNG11': 'megakaryocytes',\n",
    "    'CLU': 'megakaryocytes',\n",
    "    'GATA3': 'Th2 cell',\n",
    "    'CCR3': 'Th2 cell',\n",
    "    'CCR4': 'Th2 cell',\n",
    "    'CXCR3': 'a T cells, NK, Th1',\n",
    "    'CD68': 'macro/mono',\n",
    "    'Cd7': 'T cell',\n",
    "    'GZMB': 'cytotoxic T/ NK cell',\n",
    "}"
   ]
  },
  {
   "cell_type": "code",
   "execution_count": 317,
   "id": "dd9ef831",
   "metadata": {},
   "outputs": [],
   "source": [
    "markers_df = dict(zip(cell_names.values(), ['' for i in cell_names.values()]))\n",
    "for marker in cell_names.keys():\n",
    "    markers_df[cell_names[marker]] += f', {marker}'\n",
    "markers_df = pd.DataFrame(dict([ (k,pd.Series(v[2:])) for k,v in markers_df.items() ]))\n",
    "markers_df.T.rename({0: 'markers'},  axis = 1).to_csv( path_to_state_files + 'cell_markers.csv')"
   ]
  },
  {
   "cell_type": "code",
   "execution_count": 319,
   "id": "4f14ff17",
   "metadata": {},
   "outputs": [
    {
     "data": {
      "text/html": [
       "<div>\n",
       "<style scoped>\n",
       "    .dataframe tbody tr th:only-of-type {\n",
       "        vertical-align: middle;\n",
       "    }\n",
       "\n",
       "    .dataframe tbody tr th {\n",
       "        vertical-align: top;\n",
       "    }\n",
       "\n",
       "    .dataframe thead th {\n",
       "        text-align: right;\n",
       "    }\n",
       "</style>\n",
       "<table border=\"1\" class=\"dataframe\">\n",
       "  <thead>\n",
       "    <tr style=\"text-align: right;\">\n",
       "      <th></th>\n",
       "      <th>markers</th>\n",
       "    </tr>\n",
       "  </thead>\n",
       "  <tbody>\n",
       "    <tr>\n",
       "      <th>ab T cell</th>\n",
       "      <td>CD3E, TRAC, LCK</td>\n",
       "    </tr>\n",
       "    <tr>\n",
       "      <th>CD4+ T cell</th>\n",
       "      <td>IL7R, CD4</td>\n",
       "    </tr>\n",
       "    <tr>\n",
       "      <th>a CD8+ T cell</th>\n",
       "      <td>CD8B, CD8A, CCL5</td>\n",
       "    </tr>\n",
       "    <tr>\n",
       "      <th>na CD8+ T cell</th>\n",
       "      <td>CD8na, CCR7</td>\n",
       "    </tr>\n",
       "    <tr>\n",
       "      <th>Treg cell</th>\n",
       "      <td>FOXP3, CTLA4</td>\n",
       "    </tr>\n",
       "    <tr>\n",
       "      <th>gd T cell</th>\n",
       "      <td>TRDC</td>\n",
       "    </tr>\n",
       "    <tr>\n",
       "      <th>NK cell</th>\n",
       "      <td>GNLY, NKG7</td>\n",
       "    </tr>\n",
       "    <tr>\n",
       "      <th>monocyte1</th>\n",
       "      <td>FCGR3A, CD16, CD14</td>\n",
       "    </tr>\n",
       "    <tr>\n",
       "      <th>NK1 cell</th>\n",
       "      <td>PRF1</td>\n",
       "    </tr>\n",
       "    <tr>\n",
       "      <th>NK2 cell</th>\n",
       "      <td>SELL, CD62L, XCL1</td>\n",
       "    </tr>\n",
       "    <tr>\n",
       "      <th>B cell</th>\n",
       "      <td>CD79A</td>\n",
       "    </tr>\n",
       "    <tr>\n",
       "      <th>naive B cell</th>\n",
       "      <td>IGHD, CD37</td>\n",
       "    </tr>\n",
       "    <tr>\n",
       "      <th>a B cell</th>\n",
       "      <td>CD27, IGHM</td>\n",
       "    </tr>\n",
       "    <tr>\n",
       "      <th>Plasmablast</th>\n",
       "      <td>IGHG, CD38, TNFRSF17, CD269</td>\n",
       "    </tr>\n",
       "    <tr>\n",
       "      <th>mDC</th>\n",
       "      <td>LYZ</td>\n",
       "    </tr>\n",
       "    <tr>\n",
       "      <th>mDC1</th>\n",
       "      <td>WDFY4, XCR1, BATF3</td>\n",
       "    </tr>\n",
       "    <tr>\n",
       "      <th>mDC2</th>\n",
       "      <td>FCER1A, CD1C, CLEC10A</td>\n",
       "    </tr>\n",
       "    <tr>\n",
       "      <th>granulocyte</th>\n",
       "      <td>S100A8, S100A9</td>\n",
       "    </tr>\n",
       "    <tr>\n",
       "      <th>pDC</th>\n",
       "      <td>TCF4, E2-2, TNFRSF21, DR6</td>\n",
       "    </tr>\n",
       "    <tr>\n",
       "      <th>megakaryocytes</th>\n",
       "      <td>GNG11, CLU</td>\n",
       "    </tr>\n",
       "    <tr>\n",
       "      <th>Th2 cell</th>\n",
       "      <td>GATA3, CCR3, CCR4</td>\n",
       "    </tr>\n",
       "    <tr>\n",
       "      <th>a T cells, NK, Th1</th>\n",
       "      <td>CXCR3</td>\n",
       "    </tr>\n",
       "    <tr>\n",
       "      <th>macro/mono</th>\n",
       "      <td>CD68</td>\n",
       "    </tr>\n",
       "    <tr>\n",
       "      <th>T cell</th>\n",
       "      <td>Cd7</td>\n",
       "    </tr>\n",
       "    <tr>\n",
       "      <th>cytotoxic T/ NK cell</th>\n",
       "      <td>GZMB</td>\n",
       "    </tr>\n",
       "  </tbody>\n",
       "</table>\n",
       "</div>"
      ],
      "text/plain": [
       "                                          markers\n",
       "ab T cell                         CD3E, TRAC, LCK\n",
       "CD4+ T cell                             IL7R, CD4\n",
       "a CD8+ T cell                    CD8B, CD8A, CCL5\n",
       "na CD8+ T cell                        CD8na, CCR7\n",
       "Treg cell                            FOXP3, CTLA4\n",
       "gd T cell                                    TRDC\n",
       "NK cell                                GNLY, NKG7\n",
       "monocyte1                      FCGR3A, CD16, CD14\n",
       "NK1 cell                                     PRF1\n",
       "NK2 cell                        SELL, CD62L, XCL1\n",
       "B cell                                      CD79A\n",
       "naive B cell                           IGHD, CD37\n",
       "a B cell                               CD27, IGHM\n",
       "Plasmablast           IGHG, CD38, TNFRSF17, CD269\n",
       "mDC                                           LYZ\n",
       "mDC1                           WDFY4, XCR1, BATF3\n",
       "mDC2                        FCER1A, CD1C, CLEC10A\n",
       "granulocyte                        S100A8, S100A9\n",
       "pDC                     TCF4, E2-2, TNFRSF21, DR6\n",
       "megakaryocytes                         GNG11, CLU\n",
       "Th2 cell                        GATA3, CCR3, CCR4\n",
       "a T cells, NK, Th1                          CXCR3\n",
       "macro/mono                                   CD68\n",
       "T cell                                        Cd7\n",
       "cytotoxic T/ NK cell                         GZMB"
      ]
     },
     "execution_count": 319,
     "metadata": {},
     "output_type": "execute_result"
    }
   ],
   "source": [
    "markers_df.T.rename({0: 'markers'},  axis = 1)"
   ]
  },
  {
   "cell_type": "code",
   "execution_count": 265,
   "id": "c549913f",
   "metadata": {},
   "outputs": [],
   "source": [
    "cell_types = pd.DataFrame(cell_names).T.rename({0: 'celltype'}, axis = 1)"
   ]
  },
  {
   "cell_type": "code",
   "execution_count": 266,
   "id": "4b80c9f8",
   "metadata": {},
   "outputs": [],
   "source": [
    "df = pd.concat([df, cell_types], axis = 1)"
   ]
  },
  {
   "cell_type": "code",
   "execution_count": null,
   "id": "b5488d1b",
   "metadata": {},
   "outputs": [],
   "source": [
    "cluster = '0'\n",
    "df[df[cluster]>0].sort_values(cluster, ascending = False)[[cluster, 'celltype']]"
   ]
  },
  {
   "cell_type": "markdown",
   "id": "8dd474d4",
   "metadata": {},
   "source": [
    "# Onco res aggregation to visualization"
   ]
  },
  {
   "cell_type": "code",
   "execution_count": null,
   "id": "0ea0dea2",
   "metadata": {},
   "outputs": [],
   "source": [
    "csf_biopath = pd.read_csv('Downloads/csf_top10_all_cells_bipathways_min1genes.csv').drop(['Unnamed: 0'], axis = 1)\n",
    "# pbmc_biopath = pd.read_csv('Downloads/PBMC_top10_all_cells_bipathways_min1genes.csv').drop(['Unnamed: 0'], axis = 1)"
   ]
  },
  {
   "cell_type": "code",
   "execution_count": null,
   "id": "3407ad3d",
   "metadata": {},
   "outputs": [],
   "source": [
    "PBMC = False\n",
    "\n",
    "if not PBMC:\n",
    "    all_pos_paths = np.unique(csf_biopath.loc[:, csf_biopath.columns.str.contains('pos')].values)\n",
    "    all_neg_paths = np.unique(csf_biopath.loc[:, csf_biopath.columns.str.contains('neg')].values)\n",
    "\n",
    "elif PBMC:\n",
    "    all_pos_paths = np.unique(pbmc_biopath.loc[:, pbmc_biopath.columns.str.contains('pos')].values)\n",
    "    all_neg_paths = np.unique(pbmc_biopath.loc[:, pbmc_biopath.columns.str.contains('neg')].values)"
   ]
  },
  {
   "cell_type": "code",
   "execution_count": null,
   "id": "e8e7c3d4",
   "metadata": {},
   "outputs": [],
   "source": [
    "print('Number unique paths', 'pos:',  len(all_pos_paths), 'neg:',  len(all_neg_paths))"
   ]
  },
  {
   "cell_type": "code",
   "execution_count": null,
   "id": "9eac8006",
   "metadata": {},
   "outputs": [],
   "source": [
    "metabolism_base = pd.read_csv('D:/Phystech/НИР_ауттоимм/databases/Metabolism/arr.csv')\n",
    "qiagen_base = pd.read_csv('D:/Phystech/НИР_ауттоимм/databases/Qiagen 1.123/arr.csv')"
   ]
  },
  {
   "cell_type": "code",
   "execution_count": null,
   "id": "f8b93f8e",
   "metadata": {},
   "outputs": [],
   "source": [
    "np.unique([i.split('_')[0] for i in all_pos_paths])"
   ]
  },
  {
   "cell_type": "code",
   "execution_count": null,
   "id": "62598cdd",
   "metadata": {},
   "outputs": [],
   "source": [
    "np.unique([i.split('_')[0] for i in all_neg_paths])"
   ]
  },
  {
   "cell_type": "code",
   "execution_count": null,
   "id": "bfcefceb",
   "metadata": {},
   "outputs": [],
   "source": [
    "KEGG_pos = [i for i in all_pos_paths if 'KEGG' in i]\n",
    "NCI_pos = [i for i in all_pos_paths if 'NCI' in i]\n",
    "biocarta_pos = [i for i in all_pos_paths if 'biocarta' in i]\n",
    "reactome_pos = [i for i in all_pos_paths if 'reactome' in i]\n",
    "meta_pos = [i for i in all_pos_paths if i in metabolism_base.columns]\n",
    "qiagen_pos = [i for i in all_pos_paths if i in qiagen_base.columns]"
   ]
  },
  {
   "cell_type": "code",
   "execution_count": null,
   "id": "0030d115",
   "metadata": {},
   "outputs": [],
   "source": [
    "# [' '.join(i.split('_')) for i in NCI_pos]\n",
    "[i for i in NCI_pos]"
   ]
  },
  {
   "cell_type": "code",
   "execution_count": null,
   "id": "ece3b5f9",
   "metadata": {},
   "outputs": [],
   "source": [
    "KEGG_neg = [i for i in all_neg_paths if 'KEGG' in i]\n",
    "NCI_neg = [i for i in all_neg_paths if 'NCI' in i]\n",
    "biocarta_neg = [i for i in all_neg_paths if 'biocarta' in i]\n",
    "reactome_neg = [i for i in all_neg_paths if 'reactome' in i]\n",
    "meta_neg = [i for i in all_neg_paths if i in metabolism_base.columns]\n",
    "qiagen_neg = [i for i in all_neg_paths if i in qiagen_base.columns]"
   ]
  },
  {
   "cell_type": "code",
   "execution_count": null,
   "id": "a60f6628",
   "metadata": {},
   "outputs": [],
   "source": [
    "[' '.join(i.split('_')) for i in qiagen_neg]"
   ]
  },
  {
   "cell_type": "markdown",
   "id": "9129d1fd",
   "metadata": {},
   "source": [
    "# Figures making"
   ]
  },
  {
   "cell_type": "code",
   "execution_count": null,
   "id": "f97dba2d",
   "metadata": {},
   "outputs": [],
   "source": [
    "PBMC_pos = pd.read_csv('D:/Phystech/НИР_ауттоимм/reanalysis25112022/biopath_results/PBMC_pos_unique_from_all_types.csv', sep = ';')\n",
    "PBMC_neg = pd.read_csv('D:/Phystech/НИР_ауттоимм/reanalysis25112022/biopath_results/PBMC_neg_unique_from_all_types.csv', sep = ';')\n",
    "\n",
    "CSF_pos = pd.read_csv('D:/Phystech/НИР_ауттоимм/reanalysis25112022/biopath_results/CSF_pos_unique_from_all_types.csv', sep = ';')\n",
    "CSF_neg = pd.read_csv('D:/Phystech/НИР_ауттоимм/reanalysis25112022/biopath_results/CSF_neg_unique_from_all_types.csv', sep = ';')"
   ]
  },
  {
   "cell_type": "code",
   "execution_count": null,
   "id": "97f34d75",
   "metadata": {},
   "outputs": [],
   "source": [
    "neg_cats = []\n",
    "for cat in CSF_neg.columns:\n",
    "    neg_cats += [cat]*CSF_neg[cat].dropna().shape[0]\n",
    "pos_cats = []\n",
    "for cat in CSF_pos.columns:\n",
    "    pos_cats += [cat]*CSF_pos[cat].dropna().shape[0]"
   ]
  },
  {
   "cell_type": "code",
   "execution_count": null,
   "id": "66a59942",
   "metadata": {},
   "outputs": [],
   "source": [
    "import matplotlib.pyplot as plt\n",
    "import numpy as np\n",
    "from matplotlib.patches import Patch"
   ]
  },
  {
   "cell_type": "code",
   "execution_count": null,
   "id": "1f7c87f4",
   "metadata": {},
   "outputs": [],
   "source": [
    "# set colors to all unique cats\n",
    "\n",
    "all_cats = np.unique(np.array(\n",
    "    CSF_neg.columns.to_list() + CSF_pos.columns.to_list() + \\\n",
    "    PBMC_pos.columns.to_list() + PBMC_neg.columns.to_list()\n",
    "))\n",
    "\n",
    "all_colors = ['#FF9999','#FFCC99','#FFFF99','#CCFF99',  '#99FF99',\n",
    "              '#99FFCC','#99FFFF','#99CCFF','#9999FF','#CC99FF',\n",
    "              '#FF99FF','#483D8B', '#6B8E23','#778899']\n",
    "d_colors= dict(zip(all_cats, all_colors))"
   ]
  },
  {
   "cell_type": "code",
   "execution_count": null,
   "id": "a8369a61",
   "metadata": {},
   "outputs": [],
   "source": [
    "len(all_cats)"
   ]
  },
  {
   "cell_type": "code",
   "execution_count": null,
   "id": "3aa562ca",
   "metadata": {},
   "outputs": [],
   "source": [
    "# df = pd.DataFrame(CSF_neg.nunique()).rename({0:'cats'}, axis = 1)\n",
    "# y = df.cats.to_numpy()\n",
    "# mylabels = df.index.to_numpy()\n",
    "# mycolors = [d_colors[label] for label in mylabels]\n",
    "\n",
    "\n",
    "fig, ax = plt.subplots(2,2, figsize =(9, 6))\n",
    "\n",
    "plt.subplots_adjust(left=0,\n",
    "                    bottom=0.1,\n",
    "                    right=1,\n",
    "                    top=0.85,\n",
    "                    wspace=-0.5,\n",
    "                    hspace=0.1)\n",
    "\n",
    "df = pd.DataFrame(CSF_pos.nunique()).rename({0:'cats'}, axis = 1)\n",
    "y = df.cats.to_numpy()\n",
    "mylabels = df.index.to_numpy()\n",
    "mycolors = [d_colors[label] for label in mylabels]\n",
    "ax[0, 0].pie(y, colors = mycolors,\n",
    "       wedgeprops = { 'linewidth' : 1 , 'edgecolor' : 'black'}) # ,autopct='%1.2f%%', labels = mylabels\n",
    "ax[0, 0].set_title('CSF, MS pathways')\n",
    "\n",
    "df = pd.DataFrame(CSF_neg.nunique()).rename({0:'cats'}, axis = 1)\n",
    "y = df.cats.to_numpy()\n",
    "mylabels = df.index.to_numpy()\n",
    "mycolors = [d_colors[label] for label in mylabels]\n",
    "ax[0, 1].pie(y, colors = mycolors,\n",
    "       wedgeprops = { 'linewidth' : 1 , 'edgecolor' : 'black'}) # ,autopct='%1.2f%%', labels = mylabels\n",
    "ax[0, 1].set_title('CSF, CONT pathways')\n",
    "\n",
    "df = pd.DataFrame(PBMC_pos.nunique()).rename({0:'cats'}, axis = 1)\n",
    "y = df.cats.to_numpy()\n",
    "mylabels = df.index.to_numpy()\n",
    "mycolors = [d_colors[label] for label in mylabels]\n",
    "ax[1, 0].pie(y, colors = mycolors,\n",
    "       wedgeprops = { 'linewidth' : 1 , 'edgecolor' : 'black'}) # ,autopct='%1.2f%%', labels = mylabels\n",
    "ax[1, 0].set_title('PBMC, MS pathways')\n",
    "\n",
    "df = pd.DataFrame(PBMC_neg.nunique()).rename({0:'cats'}, axis = 1)\n",
    "y = df.cats.to_numpy()\n",
    "mylabels = df.index.to_numpy()\n",
    "mycolors = [d_colors[label] for label in mylabels]\n",
    "ax[1, 1].pie(y, colors = mycolors,\n",
    "       wedgeprops = { 'linewidth' : 1 , 'edgecolor' : 'black'}) # ,autopct='%1.2f%%' , labels = mylabels\n",
    "ax[1, 1].set_title('PBMC, CONT pathways')\n",
    "\n",
    "\n",
    "legend_elements = []\n",
    "for cat in all_cats:\n",
    "    legend_elements.append(Patch(facecolor=d_colors[cat], edgecolor='black',\n",
    "                         label=cat))\n",
    "    \n",
    "fig.legend(handles=legend_elements, bbox_to_anchor=(1,0.5, 0, 0), loc=\"center\", fontsize=14, \n",
    "           bbox_transform=plt.gcf().transFigure)\n",
    "\n",
    "# fig.suptitle('Biopathway', fontsize=14)\n",
    "plt.savefig(\"D:/Phystech/MS_state/Biopath_categories_summary_pie.pdf\", bbox_inches=\"tight\")\n",
    "plt.show()"
   ]
  },
  {
   "cell_type": "markdown",
   "id": "5890e8b2",
   "metadata": {},
   "source": [
    "# individualy pathways search"
   ]
  },
  {
   "cell_type": "code",
   "execution_count": null,
   "id": "12ab6de1",
   "metadata": {},
   "outputs": [],
   "source": [
    "csf_biopath = pd.read_csv('Downloads/csf_top10_all_cells_bipathways_min1genes.csv').drop(['Unnamed: 0'], axis = 1)\n",
    "pbmc_biopath = pd.read_csv('Downloads/PBMC_top10_all_cells_bipathways_min1genes.csv').drop(['Unnamed: 0'], axis = 1)"
   ]
  },
  {
   "cell_type": "code",
   "execution_count": null,
   "id": "497cf377",
   "metadata": {},
   "outputs": [],
   "source": [
    "path = 'reactome Classical antibody mediated complement activation Main Pathway'\n",
    "path = '_'.join(path.split(' '))\n",
    "csf_biopath[(csf_biopath == path).any(1)]"
   ]
  },
  {
   "cell_type": "code",
   "execution_count": null,
   "id": "dba7e17c",
   "metadata": {},
   "outputs": [],
   "source": [
    "pbmc_biopath[(pbmc_biopath == path).any(1)]"
   ]
  },
  {
   "cell_type": "code",
   "execution_count": null,
   "id": "c60dc25d",
   "metadata": {},
   "outputs": [],
   "source": [
    "for col in pbmc_biopath.columns:\n",
    "    if pbmc_biopath[pbmc_biopath[col] == path].shape[0] >0:\n",
    "        print(col)"
   ]
  },
  {
   "cell_type": "code",
   "execution_count": null,
   "id": "5352f0ae",
   "metadata": {},
   "outputs": [],
   "source": [
    "for col in csf_biopath.columns:\n",
    "    if csf_biopath[csf_biopath[col] == path].shape[0] >0:\n",
    "        print(col)"
   ]
  },
  {
   "cell_type": "markdown",
   "id": "5a5f8eac",
   "metadata": {},
   "source": [
    "# Cell counts plot"
   ]
  },
  {
   "cell_type": "code",
   "execution_count": null,
   "id": "77931a12",
   "metadata": {},
   "outputs": [],
   "source": [
    "df = pd.read_csv('Downloads/PBMC_cell_counts.csv').rename({'Idents.PBMC.integrated.': 'celltypes', 'PBMC.integrated.stim': 'stim'}, axis = 1)"
   ]
  },
  {
   "cell_type": "code",
   "execution_count": null,
   "id": "a4a71e44",
   "metadata": {},
   "outputs": [],
   "source": [
    "df[df['stim'] == 'MS'] # CONT = 15004, MS = 25076"
   ]
  },
  {
   "cell_type": "markdown",
   "id": "67aebac8",
   "metadata": {},
   "source": [
    "# Cmap results plots"
   ]
  },
  {
   "cell_type": "code",
   "execution_count": 186,
   "id": "c70cb6e8",
   "metadata": {},
   "outputs": [],
   "source": [
    "import seaborn as sns"
   ]
  },
  {
   "cell_type": "code",
   "execution_count": 189,
   "id": "9afdfb09",
   "metadata": {},
   "outputs": [],
   "source": [
    "PBMC_merged = pd.read_csv('Downloads/PBMC_cmap_res_all.csv').drop(['Unnamed: 0'], axis = 1)\n",
    "CSF_merged = pd.read_csv('Downloads/CSF_cmap_res_all.csv').drop(['Unnamed: 0'], axis = 1)\n",
    "\n",
    "# CSF_merged = CSF_merged.drop(['CD4+Tcell'], axis = 1)"
   ]
  },
  {
   "cell_type": "code",
   "execution_count": 190,
   "id": "5a89b1c7",
   "metadata": {},
   "outputs": [
    {
     "data": {
      "text/plain": [
       "(155,)"
      ]
     },
     "execution_count": 190,
     "metadata": {},
     "output_type": "execute_result"
    }
   ],
   "source": [
    "np.unique(PBMC_merged.values).shape"
   ]
  },
  {
   "cell_type": "code",
   "execution_count": 221,
   "id": "63cfa222",
   "metadata": {},
   "outputs": [
    {
     "data": {
      "text/plain": [
       "(50,)"
      ]
     },
     "execution_count": 221,
     "metadata": {},
     "output_type": "execute_result"
    }
   ],
   "source": [
    "np.unique(CSF_merged.values).shape"
   ]
  },
  {
   "cell_type": "code",
   "execution_count": 241,
   "id": "a532825a",
   "metadata": {},
   "outputs": [
    {
     "data": {
      "text/plain": [
       "{'-666'}"
      ]
     },
     "execution_count": 241,
     "metadata": {},
     "output_type": "execute_result"
    }
   ],
   "source": [
    "# молекулы во всех клетках\n",
    "all_values = [set(i) for i in PBMC_merged.values.T]\n",
    "set.intersection(\n",
    "    all_values[0], all_values[1], all_values[2], all_values[3], all_values[4],\n",
    "    all_values[5], all_values[6], all_values[7], all_values[8], all_values[9],\n",
    "    all_values[10], all_values[11])"
   ]
  },
  {
   "cell_type": "code",
   "execution_count": 237,
   "id": "60954ac7",
   "metadata": {},
   "outputs": [
    {
     "data": {
      "text/plain": [
       "{'-666',\n",
       " 'GDC-0941',\n",
       " 'GDC-0980',\n",
       " 'KU-0063794',\n",
       " 'NVP-BEZ235',\n",
       " 'NVP-BGT226',\n",
       " 'OSI-027',\n",
       " 'PIK-93',\n",
       " 'WYE-125132',\n",
       " 'torin-1',\n",
       " 'torin-2'}"
      ]
     },
     "execution_count": 237,
     "metadata": {},
     "output_type": "execute_result"
    }
   ],
   "source": [
    "# молекулы во всех клетках\n",
    "all_values = [set(i) for i in CSF_merged.values.T]\n",
    "set.intersection(\n",
    "    all_values[0], all_values[1], all_values[2], all_values[3], all_values[4],\n",
    "    all_values[5], all_values[6], all_values[7], all_values[8], all_values[9],\n",
    "    all_values[10],all_values[11],all_values[12],all_values[13])"
   ]
  },
  {
   "cell_type": "code",
   "execution_count": 243,
   "id": "42e3a23a",
   "metadata": {},
   "outputs": [],
   "source": [
    "mol = 'GR 103691' mDC2, mDC1 NK cells, plasmablasts \n",
    "for col in CSF_merged.columns:\n",
    "    if mol in CSF_merged[col]:\n",
    "        print(col)"
   ]
  },
  {
   "cell_type": "code",
   "execution_count": null,
   "id": "b20b39c9",
   "metadata": {},
   "outputs": [],
   "source": [
    "# Luminespib, geldanamycin, Brefeldin, (Cyclosporine ARP 101) SNS-032 GR 103691 Tyrphostin AG 1478 CA-074-Me calyculin A"
   ]
  },
  {
   "cell_type": "code",
   "execution_count": null,
   "id": "ecded7d2",
   "metadata": {},
   "outputs": [],
   "source": [
    "# Dactolisib, torin-1, WYE-125132, Apitolisib, OSI-027, Pictilisib, \n",
    "# PI-103, torin-2, PIK-93, KU-0063794, NVP-BGT226, ZSTK-474, AZD-8055, wortmannin, GSK-1059615"
   ]
  },
  {
   "cell_type": "code",
   "execution_count": 219,
   "id": "6de8cc2c",
   "metadata": {},
   "outputs": [],
   "source": [
    "# СSF молекулы встречающиеся больше пяти раз или топ 20 наиболее встречающихся \n",
    "CSF_rename_mols = {\n",
    "    'NVP-BEZ235': 'Dactolisib', #  PI3K inhibitor\n",
    "    'torin-1':'torin-1', # mTOR Inhibitor\n",
    "    'WYE-125132':'WYE-125132', # mTOR inhibitor and PI3K inhibitor\n",
    "    '-666':'Luminespib',  # HSP90 inhibitor https://maayanlab.cloud/dmoa/sig/CPC006_HA1E_24H:BRD-K41859756-001-01-9:10\n",
    "    'GDC-0980':'Apitolisib', #  PI3K inhibitor and mTOR inhibitor \n",
    "    'OSI-027':'OSI-027', #  dual inhibitor of mTORC1 and mTORC2\n",
    "    'geldanamycin':'geldanamycin', #  antibiotic that inhibits the function of Hsp90\n",
    "    'GDC-0941':'Pictilisib', #  PI3K inhibitor and mTOR inhibitor \n",
    "    'PI-103':'PI-103', #  PI3K inhibitor and mTOR inhibitor \n",
    "    'torin-2':'torin-2',  # mTOR Inhibitor\n",
    "    'PIK-93':'PIK-93', # PI4K (PI4KIIIβ) inhibitor, PI3K inhibitor\n",
    "    'KU-0063794':'KU-0063794', # dual-mTOR inhibitor of mTORC1 and mTORC2\n",
    "    'NVP-BGT226':'NVP-BGT226', # PI3K/mTOR inhibitor\n",
    "    '89671':'Brefeldin', # antibiotic\n",
    "    'CYCLOSPORINE': 'Cyclosporine', #  immunosuppressant againt T cells\n",
    "    'BMS-387032':'SNS-032', # inhibitor of CDK2, CDK7, and CDK9\n",
    "    'GR 103691':'GR 103691',# dopamine D3 receptor antagonist\n",
    "    'Tyrphostin AG 1478':'Tyrphostin AG 1478', #  EGFR inhibitor\n",
    "    'ZSTK-474':'ZSTK-474', #  PI3K inhibitor\n",
    "    'AZD-8055':'AZD-8055', # mTOR inhibitor\n",
    "    'ARP 101':'ARP 101', #  T cell supressor\n",
    "    'CA-074-Me':'CA-074-Me', # Cathepsin B Inhibitor IV\n",
    "    'calyculin A':'calyculin A' # protein phosphatase inhibitor  \n",
    "}\n",
    "\n",
    "\n",
    "PBMC_rename_mols = {\n",
    "    '-666':'Luminespib', # HSP90 inhibitor https://maayanlab.cloud/dmoa/sig/CPC006_HA1E_24H:BRD-K41859756-001-01-9:10\n",
    "    'NVP-BEZ235': 'Dactolisib', #  PI3K inhibitor\n",
    "    'torin-1':'torin-1', # mTOR Inhibitor\n",
    "    'GDC-0980':'Apitolisib', #  PI3K inhibitor and mTOR inhibitor\n",
    "    'WYE-125132':'WYE-125132', # mTOR inhibitor and PI3K inhibitor\n",
    "    'geldanamycin':'geldanamycin', #  antibiotic that inhibits the function of Hsp90\n",
    "    'AZD-8055':'AZD-8055', # mTOR inhibitor\n",
    "    'CGP-60474':'CGP-60474', # cyclin-dependent kinase (CDK) inhibitor\n",
    "    'WZ-3105':'WZ-3105', # anticancer\n",
    "    'GDC-0941':'Pictilisib', #  PI3K inhibitor and mTOR inhibitor \n",
    "    'KU-0063794':'KU-0063794', # dual-mTOR inhibitor of mTORC1 and mTORC2\n",
    "    'BMS-387032':'SNS-032', # inhibitor of CD=-K2, CDK7, and CDK9\n",
    "    'NVP-AUY922':'Luminespib', # HSP90 inhibitor\n",
    "    'NVP-BGT226':'NVP-BGT226', # PI3K/mTOR inhibitor\n",
    "    'ZSTK-474':'ZSTK-474', #  PI3K inhibitor\n",
    "    'torin-2':'torin-2',  # mTOR Inhibitor\n",
    "    'PI-103':'PI-103', #  PI3K inhibitor and mTOR inhibitor \n",
    "    'CYCLOSPORINE': 'Cyclosporine', #  immunosuppressant againt T cells\n",
    "    'wortmannin':'wortmannin', # PI3K inhibitor\n",
    "    'BX-795':'BX-795', # PDK1 inhibitor, a potent inhibitor of cell growth of multiple cancer cell lines\n",
    "    'mitoxantrone':'mitoxantrone', # MS drug, anticancer\n",
    "    'FGIN-1-27':'FGIN-1-27', # anxiolytic agent\n",
    "    'PIK-93':'PIK-93', # PI4K (PI4KIIIβ) inhibitor, PI3K inhibitor\n",
    "    'AG14361':'AG14361', #  inhibitor of PARP1\n",
    "    'OSI-027':'OSI-027', #  dual inhibitor of mTORC1 and mTORC2\n",
    "    'GSK-1059615':'GSK-1059615', # PI3K inhibitor\n",
    "    'LDN-193189':'LDN-193189', # BMP Pathway Inhibitor\n",
    "    'A443654':'A443654' #  inhibitor of Akt serine/threonine kinases\n",
    "}"
   ]
  },
  {
   "cell_type": "code",
   "execution_count": 213,
   "id": "9bc79f18",
   "metadata": {},
   "outputs": [
    {
     "data": {
      "text/plain": [
       "(170, 1)"
      ]
     },
     "execution_count": 213,
     "metadata": {},
     "output_type": "execute_result"
    }
   ],
   "source": [
    "# save table with all unique \n",
    "# pd.DataFrame({'all_mols':np.unique(np.concatenate([np.unique(PBMC_merged.values), np.unique(CSF_merged.values)]))}).to_csv('Downloads/All_mols_for_rename_and_desc.csv')\n",
    "pd.DataFrame({'all_mols':np.unique(np.concatenate([np.unique(PBMC_merged.values), np.unique(CSF_merged.values)]))}).shape"
   ]
  },
  {
   "cell_type": "code",
   "execution_count": 214,
   "id": "6c3aea0d",
   "metadata": {},
   "outputs": [],
   "source": [
    "CSF_mols = pd.DataFrame({'CSF_all':CSF_merged.values.flatten()})\n",
    "\n",
    "CSF_mols = CSF_mols.replace({\"CSF_all\": CSF_rename_mols})\n",
    "\n",
    "PBMC_mols = pd.DataFrame({'PBMC_all':PBMC_merged.values.flatten()})\n",
    "\n",
    "PBMC_mols = PBMC_mols.replace({\"PBMC_all\": PBMC_rename_mols})"
   ]
  },
  {
   "cell_type": "code",
   "execution_count": 256,
   "id": "e54e545f",
   "metadata": {},
   "outputs": [
    {
     "data": {
      "text/html": [
       "<div>\n",
       "<style scoped>\n",
       "    .dataframe tbody tr th:only-of-type {\n",
       "        vertical-align: middle;\n",
       "    }\n",
       "\n",
       "    .dataframe tbody tr th {\n",
       "        vertical-align: top;\n",
       "    }\n",
       "\n",
       "    .dataframe thead th {\n",
       "        text-align: right;\n",
       "    }\n",
       "</style>\n",
       "<table border=\"1\" class=\"dataframe\">\n",
       "  <thead>\n",
       "    <tr style=\"text-align: right;\">\n",
       "      <th></th>\n",
       "      <th>PBMC_all</th>\n",
       "    </tr>\n",
       "  </thead>\n",
       "  <tbody>\n",
       "    <tr>\n",
       "      <th>buparlisib</th>\n",
       "      <td>4</td>\n",
       "    </tr>\n",
       "    <tr>\n",
       "      <th>KIN001-055</th>\n",
       "      <td>4</td>\n",
       "    </tr>\n",
       "    <tr>\n",
       "      <th>VU0418939-2</th>\n",
       "      <td>4</td>\n",
       "    </tr>\n",
       "    <tr>\n",
       "      <th>SID 26681509</th>\n",
       "      <td>3</td>\n",
       "    </tr>\n",
       "    <tr>\n",
       "      <th>QL-XII-47</th>\n",
       "      <td>3</td>\n",
       "    </tr>\n",
       "    <tr>\n",
       "      <th>Mycophenolic acid</th>\n",
       "      <td>3</td>\n",
       "    </tr>\n",
       "    <tr>\n",
       "      <th>89671</th>\n",
       "      <td>3</td>\n",
       "    </tr>\n",
       "    <tr>\n",
       "      <th>ARP 101</th>\n",
       "      <td>3</td>\n",
       "    </tr>\n",
       "    <tr>\n",
       "      <th>dasatinib</th>\n",
       "      <td>3</td>\n",
       "    </tr>\n",
       "    <tr>\n",
       "      <th>SU11652</th>\n",
       "      <td>3</td>\n",
       "    </tr>\n",
       "    <tr>\n",
       "      <th>480743.cdx</th>\n",
       "      <td>3</td>\n",
       "    </tr>\n",
       "    <tr>\n",
       "      <th>T8902</th>\n",
       "      <td>3</td>\n",
       "    </tr>\n",
       "    <tr>\n",
       "      <th>NCGC00167398-02</th>\n",
       "      <td>3</td>\n",
       "    </tr>\n",
       "    <tr>\n",
       "      <th>radicicol</th>\n",
       "      <td>3</td>\n",
       "    </tr>\n",
       "    <tr>\n",
       "      <th>GSK-2126458</th>\n",
       "      <td>3</td>\n",
       "    </tr>\n",
       "    <tr>\n",
       "      <th>Camptothecin</th>\n",
       "      <td>2</td>\n",
       "    </tr>\n",
       "    <tr>\n",
       "      <th>2-morpholino-9-(thiophen-3-yl)-N-((5-(trifluoromethyl)-1H-benzo[d]imidazol-2-yl)methyl)-9H-purin-6-amine</th>\n",
       "      <td>2</td>\n",
       "    </tr>\n",
       "    <tr>\n",
       "      <th>NVP-TAE684</th>\n",
       "      <td>2</td>\n",
       "    </tr>\n",
       "    <tr>\n",
       "      <th>FK506</th>\n",
       "      <td>2</td>\n",
       "    </tr>\n",
       "    <tr>\n",
       "      <th>phorbol-12-myristate-13-acetate (PMA)</th>\n",
       "      <td>2</td>\n",
       "    </tr>\n",
       "  </tbody>\n",
       "</table>\n",
       "</div>"
      ],
      "text/plain": [
       "                                                    PBMC_all\n",
       "buparlisib                                                 4\n",
       "KIN001-055                                                 4\n",
       "VU0418939-2                                                4\n",
       "SID 26681509                                               3\n",
       "QL-XII-47                                                  3\n",
       "Mycophenolic acid                                          3\n",
       "89671                                                      3\n",
       "ARP 101                                                    3\n",
       "dasatinib                                                  3\n",
       "SU11652                                                    3\n",
       "480743.cdx                                                 3\n",
       "T8902                                                      3\n",
       "NCGC00167398-02                                            3\n",
       "radicicol                                                  3\n",
       "GSK-2126458                                                3\n",
       "Camptothecin                                               2\n",
       "2-morpholino-9-(thiophen-3-yl)-N-((5-(trifluoro...         2\n",
       "NVP-TAE684                                                 2\n",
       "FK506                                                      2\n",
       "phorbol-12-myristate-13-acetate (PMA)                      2"
      ]
     },
     "execution_count": 256,
     "metadata": {},
     "output_type": "execute_result"
    }
   ],
   "source": [
    "d = pd.DataFrame(PBMC_mols.PBMC_all.value_counts())\n",
    "d[d.PBMC_all < 5].head(20)"
   ]
  },
  {
   "cell_type": "code",
   "execution_count": 320,
   "id": "97424c43",
   "metadata": {},
   "outputs": [
    {
     "data": {
      "text/plain": [
       "Text(0.5, 1.0, 'PBMC')"
      ]
     },
     "execution_count": 320,
     "metadata": {},
     "output_type": "execute_result"
    },
    {
     "data": {
      "image/png": "[encoded data removed]",
      "text/plain": [
       "<Figure size 648x432 with 1 Axes>"
      ]
     },
     "metadata": {
      "needs_background": "light"
     },
     "output_type": "display_data"
    }
   ],
   "source": [
    "df = pd.DataFrame(PBMC_mols.PBMC_all.value_counts()).rename({'PBMC_all': 'Molecules occurrence in all cells'}, axis = 1)\n",
    "# df = df.reset_index().iloc[:20, :].rename({'index': ''}, axis = 1)\n",
    "df = df.reset_index().rename({'index': ''}, axis = 1)\n",
    "df = df[df['Molecules occurrence in all cells'] >= 5]\n",
    "\n",
    "fig = plt.figure(figsize = (9,6))\n",
    "sns.barplot(\n",
    "    data=df, x=\"Molecules occurrence in all cells\", y=\"\", facecolor=(204/255, 51/255, 153/255, 0.6) # '#CC3399'\n",
    ")\n",
    "plt.title('PBMC')\n",
    "# plt.axis('off')"
   ]
  },
  {
   "cell_type": "code",
   "execution_count": 216,
   "id": "3f45754b",
   "metadata": {},
   "outputs": [
    {
     "data": {
      "text/plain": [
       "Text(0.5, 1.0, 'CSF')"
      ]
     },
     "execution_count": 216,
     "metadata": {},
     "output_type": "execute_result"
    },
    {
     "data": {
      "image/png": "[encoded data removed]",
      "text/plain": [
       "<Figure size 648x432 with 1 Axes>"
      ]
     },
     "metadata": {
      "needs_background": "light"
     },
     "output_type": "display_data"
    }
   ],
   "source": [
    "df = pd.DataFrame(CSF_mols.CSF_all.value_counts()).rename({'CSF_all': 'Molecules occurrence in all cells'}, axis = 1)\n",
    "# df = df.reset_index().iloc[:20, :].rename({'index': ''}, axis = 1)\n",
    "df = df.reset_index().rename({'index': ''}, axis = 1)\n",
    "df = df[df['Molecules occurrence in all cells'] >= 5]\n",
    "\n",
    "fig = plt.figure(figsize = (9,6))\n",
    "sns.barplot(\n",
    "    data=df, x=\"Molecules occurrence in all cells\", y=\"\", facecolor=(0, 0, 153/255, 0.6) # '#000099'\n",
    ")\n",
    "\n",
    "plt.title('CSF')\n",
    "# plt.axis('off')"
   ]
  },
  {
   "cell_type": "code",
   "execution_count": 197,
   "id": "97df350d",
   "metadata": {},
   "outputs": [
    {
     "name": "stdout",
     "output_type": "stream",
     "text": [
      "11\n"
     ]
    }
   ],
   "source": [
    "common_cells = [celltype for celltype in CSF_merged.columns if celltype in PBMC_merged.columns]\n",
    "print(len(common_cells))"
   ]
  },
  {
   "cell_type": "markdown",
   "id": "84916e95",
   "metadata": {},
   "source": [
    "### Intersections between all cell types"
   ]
  },
  {
   "cell_type": "code",
   "execution_count": 198,
   "id": "4a52e70d",
   "metadata": {},
   "outputs": [],
   "source": [
    "from matplotlib_venn import venn2,venn2_circles\n",
    "from matplotlib import pyplot as plt\n",
    "%matplotlib inline"
   ]
  },
  {
   "cell_type": "code",
   "execution_count": 199,
   "id": "ab7a9f01",
   "metadata": {},
   "outputs": [],
   "source": [
    "colors_map = {'na CD8+ T cell' : '#CC6633',\n",
    "    'ab T cell' : '#990000',\n",
    "    'gd T cell' : '#996666',\n",
    "    'a CD8+ T cell' : '#FF6633',\n",
    "    'NK cell' : '#CC3399',\n",
    "    'granulocyte' : '#99FF33',\n",
    "    'megakaryocyte' : '#006600',\n",
    "    'naive B cell' : '#CC9900',\n",
    "    'monocyte' : '#000099',\n",
    "    'mDC' : '#0099FF',\n",
    "    'mDC2' : '#66FFFF',\n",
    "    'GrB+ pDC' : '#FF99FF',\n",
    "    'Plasmablast' : '#006600',\n",
    "    'T cell': '#330000'\n",
    "    \n",
    "}\n",
    "common_cells_color_map = {}\n",
    "for key in colors_map.keys():\n",
    "    common_cells_color_map[''.join(key.split(' '))] = colors_map[key]"
   ]
  },
  {
   "cell_type": "markdown",
   "id": "6b84ac0c",
   "metadata": {},
   "source": [
    "### For major cell types"
   ]
  },
  {
   "cell_type": "code",
   "execution_count": 201,
   "id": "70510945",
   "metadata": {},
   "outputs": [],
   "source": [
    "CSF_merged_major = {}\n",
    "\n",
    "CSF_merged_major['All_T_cells'] = np.unique(CSF_merged[['abTcell', 'gdTcell', 'aCD8+Tcell', 'naCD8+Tcell', 'Tcell']])\n",
    "CSF_merged_major['All_mDCs'] = np.unique(CSF_merged[['mDC', 'mDC2']])\n",
    "\n",
    "for celltype in ['monocyte', 'NKcell', 'naiveBcell', 'granulocyte', 'GrB+pDC']:\n",
    "    CSF_merged_major[celltype] = np.unique(CSF_merged[celltype].values)\n",
    "\n",
    "PBMC_merged_major = {}\n",
    "\n",
    "PBMC_merged_major['All_T_cells'] = np.unique(PBMC_merged[['abTcell', 'gdTcell', 'aCD8+Tcell', 'naCD8+Tcell']])\n",
    "PBMC_merged_major['All_mDCs'] = np.unique(PBMC_merged[['mDC', 'mDC2']])\n",
    "\n",
    "for celltype in ['monocyte', 'NKcell', 'naiveBcell', 'granulocyte', 'GrB+pDC']:\n",
    "    PBMC_merged_major[celltype] = np.unique(PBMC_merged[celltype].values)\n",
    "    \n",
    "common_cells_color_map['All_T_cells'] = '#330000'\n",
    "common_cells_color_map['All_mDCs'] = '#0099FF'"
   ]
  },
  {
   "cell_type": "code",
   "execution_count": 202,
   "id": "bbb042f8",
   "metadata": {},
   "outputs": [
    {
     "data": {
      "image/png": "[encoded data removed]",
      "text/plain": [
       "<Figure size 648x432 with 7 Axes>"
      ]
     },
     "metadata": {},
     "output_type": "display_data"
    }
   ],
   "source": [
    "major_common = ['All_T_cells', 'All_mDCs', 'monocyte', 'NKcell', 'naiveBcell', 'granulocyte', 'GrB+pDC' ]\n",
    "\n",
    "fig = plt.figure(figsize =(9, 6))\n",
    "\n",
    "plt.subplots_adjust(left=0,\n",
    "                    bottom=0,\n",
    "                    right=0.4,\n",
    "                    top=1,\n",
    "                    wspace=0,\n",
    "                    hspace=0.2)\n",
    "\n",
    "sublots = [421, 422, 423, 424, 425, 426, 427]\n",
    "for ind, celltype in enumerate(major_common):\n",
    "    inter_mols = set([i for i in CSF_merged_major[celltype] if i in PBMC_merged_major[celltype]])\n",
    "    subsets = (\n",
    "       PBMC_merged_major[celltype].shape[0] - len(inter_mols),\n",
    "       CSF_merged_major[celltype].shape[0] - len(inter_mols),\n",
    "       len(inter_mols)\n",
    "    )\n",
    "    labels = ('PBMC', 'CSF')\n",
    "    \n",
    "    plt.subplot(sublots[ind]).set_title(celltype)\n",
    "    \n",
    "    c = venn2(subsets = subsets,\n",
    "#           set_labels = labels)\n",
    "          set_labels = ['', ''])\n",
    "    c.get_patch_by_id('10').set_color('#CC3399')\n",
    "    c.get_patch_by_id('01').set_color('#000099')\n",
    "    c.get_patch_by_id('10').set_edgecolor('black')\n",
    "    c.get_patch_by_id('01').set_edgecolor('black')\n",
    "    c.get_patch_by_id('10').set_alpha(0.6)\n",
    "    c.get_patch_by_id('01').set_alpha(0.6)\n",
    "#     c.get_patch_by_id('11').set_color(common_cells_color_map[celltype])\n",
    "    c.get_patch_by_id('11').set_edgecolor('black')\n",
    "#     c.get_patch_by_id('11').set_alpha(0.9)\n",
    "    c.get_patch_by_id('11').set_alpha(0.4)\n",
    "    \n",
    "\n",
    "#     ax[0, 0].set_title(celltype)\n",
    "#     plt.title(celltype)\n",
    "plt.show()"
   ]
  },
  {
   "cell_type": "markdown",
   "id": "ab70bc88",
   "metadata": {},
   "source": [
    "### For every equal cell type"
   ]
  },
  {
   "cell_type": "code",
   "execution_count": 203,
   "id": "80ba53ac",
   "metadata": {},
   "outputs": [
    {
     "data": {
      "image/png": "[encoded data removed]",
      "text/plain": [
       "<Figure size 648x432 with 11 Axes>"
      ]
     },
     "metadata": {},
     "output_type": "display_data"
    }
   ],
   "source": [
    "fig = plt.figure(figsize =(9, 6))\n",
    "\n",
    "# plt.subplots_adjust(left=0,\n",
    "#                     bottom=0,\n",
    "#                     right=0.4,\n",
    "#                     top=1,\n",
    "#                     wspace=0,\n",
    "#                     hspace=0.2)\n",
    "\n",
    "sublots = [(0, 0), (0, 1), (0, 2), (0, 3), \n",
    "           (1, 0), (1, 1), (1, 2), (1, 3),  \n",
    "           (2, 0), (2, 1), (2, 2), (2, 3)]\n",
    "\n",
    "for ind, celltype in enumerate(common_cells):\n",
    "    inter_mols = set([i for i in CSF_merged[celltype].values if i in PBMC_merged[celltype].values])\n",
    "    subsets = (\n",
    "       PBMC_merged[celltype].unique().shape[0] - len(inter_mols),\n",
    "       CSF_merged[celltype].unique().shape[0] - len(inter_mols),\n",
    "       len(inter_mols)\n",
    "    )\n",
    "    \n",
    "#     labels = ('PBMC', 'CSF')\n",
    "    labels = ['', '']\n",
    "    \n",
    "    plt.subplot2grid((3,4), sublots[ind]).set_title(celltype)\n",
    "    \n",
    "    c = venn2(subsets = subsets,\n",
    "          set_labels = labels)\n",
    "\n",
    "    c.get_patch_by_id('10').set_color('#CC3399')\n",
    "    c.get_patch_by_id('01').set_color('#000099')\n",
    "    c.get_patch_by_id('10').set_edgecolor('black')\n",
    "    c.get_patch_by_id('01').set_edgecolor('black')\n",
    "    c.get_patch_by_id('10').set_alpha(0.6)\n",
    "    c.get_patch_by_id('01').set_alpha(0.6)\n",
    "#     c.get_patch_by_id('11').set_color(common_cells_color_map[celltype])\n",
    "    c.get_patch_by_id('11').set_edgecolor('black')\n",
    "#     c.get_patch_by_id('11').set_alpha(0.9)\n",
    "    c.get_patch_by_id('11').set_alpha(0.4)\n",
    "    \n",
    "#     c.get_patch_by_id('10').set_color(common_cells_color_map[celltype])\n",
    "#     c.get_patch_by_id('01').set_color(common_cells_color_map[celltype])\n",
    "#     c.get_patch_by_id('10').set_edgecolor('black')\n",
    "#     c.get_patch_by_id('01').set_edgecolor('black')\n",
    "#     c.get_patch_by_id('10').set_alpha(0.7)\n",
    "#     c.get_patch_by_id('01').set_alpha(0.3)\n",
    "#     c.get_patch_by_id('11').set_color(common_cells_color_map[celltype])\n",
    "#     c.get_patch_by_id('11').set_edgecolor('black')\n",
    "#     c.get_patch_by_id('11').set_alpha(0.9)\n",
    "\n",
    "plt.show()"
   ]
  },
  {
   "cell_type": "markdown",
   "id": "fd0d04e3",
   "metadata": {},
   "source": [
    "# supervenn for all cell types"
   ]
  },
  {
   "cell_type": "code",
   "execution_count": 204,
   "id": "c53d3eaa",
   "metadata": {},
   "outputs": [],
   "source": [
    "# https://github.com/gecko984/supervenn\n",
    "from supervenn import supervenn"
   ]
  },
  {
   "cell_type": "code",
   "execution_count": 205,
   "id": "d941bc8a",
   "metadata": {},
   "outputs": [
    {
     "data": {
      "text/plain": [
       "Text(0.5, 1.0, 'CSF')"
      ]
     },
     "execution_count": 205,
     "metadata": {},
     "output_type": "execute_result"
    },
    {
     "data": {
      "image/png": "[encoded data removed]",
      "text/plain": [
       "<Figure size 432x288 with 1 Axes>"
      ]
     },
     "metadata": {
      "needs_background": "light"
     },
     "output_type": "display_data"
    }
   ],
   "source": [
    "plt.figure(figsize=(6, 4))\n",
    "\n",
    "labels = list(CSF_merged.columns)\n",
    "sets = []\n",
    "for celltype in labels:\n",
    "    sets.append(set(CSF_merged[celltype].unique()))\n",
    "\n",
    "supervenn(sets, labels, side_plots=False)\n",
    "plt.xlabel('')\n",
    "plt.ylabel('')\n",
    "plt.title('CSF')"
   ]
  },
  {
   "cell_type": "code",
   "execution_count": 206,
   "id": "7e38672d",
   "metadata": {},
   "outputs": [
    {
     "data": {
      "text/plain": [
       "Text(0.5, 1.0, 'PBMC')"
      ]
     },
     "execution_count": 206,
     "metadata": {},
     "output_type": "execute_result"
    },
    {
     "data": {
      "image/png": "[encoded data removed]",
      "text/plain": [
       "<Figure size 648x288 with 1 Axes>"
      ]
     },
     "metadata": {
      "needs_background": "light"
     },
     "output_type": "display_data"
    }
   ],
   "source": [
    "plt.figure(figsize=(9, 4))\n",
    "\n",
    "labels = list(PBMC_merged.columns)\n",
    "sets = []\n",
    "for celltype in labels:\n",
    "    sets.append(set(PBMC_merged[celltype].unique()))\n",
    "\n",
    "supervenn(sets, labels, side_plots=False, widths_minmax_ratio=0.2)\n",
    "plt.xlabel('')\n",
    "plt.ylabel('')\n",
    "plt.title('PBMC')"
   ]
  }
 ],
 "metadata": {
  "kernelspec": {
   "display_name": "Python 3",
   "language": "python",
   "name": "python3"
  },
  "language_info": {
   "codemirror_mode": {
    "name": "ipython",
    "version": 3
   },
   "file_extension": ".py",
   "mimetype": "text/x-python",
   "name": "python",
   "nbconvert_exporter": "python",
   "pygments_lexer": "ipython3",
   "version": "3.8.3"
  }
 },
 "nbformat": 4,
 "nbformat_minor": 5
}
